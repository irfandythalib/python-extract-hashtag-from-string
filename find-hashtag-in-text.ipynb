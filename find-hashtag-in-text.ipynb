{
 "cells": [
  {
   "cell_type": "code",
   "execution_count": 1,
   "metadata": {
    "ExecuteTime": {
     "end_time": "2022-06-07T13:44:49.689085Z",
     "start_time": "2022-06-07T13:44:49.677084Z"
    }
   },
   "outputs": [],
   "source": [
    "import re"
   ]
  },
  {
   "cell_type": "code",
   "execution_count": 2,
   "metadata": {
    "ExecuteTime": {
     "end_time": "2022-06-07T13:45:00.010135Z",
     "start_time": "2022-06-07T13:45:00.000136Z"
    }
   },
   "outputs": [],
   "source": [
    "def cleanhtml(raw_html):\n",
    "    cleanr = re.compile('<.*?>')\n",
    "    cleantext = re.sub(cleanr, '', raw_html)\n",
    "    return cleantext"
   ]
  },
  {
   "cell_type": "code",
   "execution_count": 6,
   "metadata": {
    "ExecuteTime": {
     "end_time": "2022-06-07T13:46:39.594376Z",
     "start_time": "2022-06-07T13:46:39.580376Z"
    }
   },
   "outputs": [],
   "source": [
    "text = \"Selamat siang followers. Apa kabar kalian hari ini? #pagi #morning #selamatpagi\""
   ]
  },
  {
   "cell_type": "code",
   "execution_count": 7,
   "metadata": {
    "ExecuteTime": {
     "end_time": "2022-06-07T13:46:39.859090Z",
     "start_time": "2022-06-07T13:46:39.841741Z"
    }
   },
   "outputs": [
    {
     "data": {
      "text/plain": [
       "{'morning', 'pagi', 'selamatpagi'}"
      ]
     },
     "execution_count": 7,
     "metadata": {},
     "output_type": "execute_result"
    }
   ],
   "source": [
    "{tag.strip(\"#\") for tag in text.split() if tag.startswith(\"#\")}"
   ]
  }
 ],
 "metadata": {
  "kernelspec": {
   "display_name": "Python 3",
   "language": "python",
   "name": "python3"
  },
  "language_info": {
   "codemirror_mode": {
    "name": "ipython",
    "version": 3
   },
   "file_extension": ".py",
   "mimetype": "text/x-python",
   "name": "python",
   "nbconvert_exporter": "python",
   "pygments_lexer": "ipython3",
   "version": "3.7.7"
  }
 },
 "nbformat": 4,
 "nbformat_minor": 4
}
